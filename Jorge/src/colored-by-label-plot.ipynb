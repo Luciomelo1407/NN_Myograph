{
 "cells": [
  {
   "cell_type": "code",
   "execution_count": 37,
   "id": "32d5549b-e8a0-458e-9d92-4d1723ea84b6",
   "metadata": {},
   "outputs": [],
   "source": [
    "import matplotlib.pyplot as plt\n",
    "from matplotlib.collections import LineCollection\n",
    "from matplotlib.colors import ListedColormap, BoundaryNorm\n",
    "import numpy as np\n",
    "import pandas as pd\n",
    "from scipy import signal, ndimage"
   ]
  },
  {
   "cell_type": "code",
   "execution_count": 45,
   "id": "46d296fa-20c2-4a4c-b6b9-4d0687665b8e",
   "metadata": {},
   "outputs": [
    {
     "data": {
      "text/plain": [
       "<Figure size 2000x600 with 0 Axes>"
      ]
     },
     "metadata": {},
     "output_type": "display_data"
    },
    {
     "data": {
      "text/plain": [
       "<Figure size 2000x600 with 0 Axes>"
      ]
     },
     "metadata": {},
     "output_type": "display_data"
    },
    {
     "data": {
      "text/plain": [
       "<Figure size 2000x600 with 0 Axes>"
      ]
     },
     "metadata": {},
     "output_type": "display_data"
    },
    {
     "data": {
      "text/plain": [
       "<Figure size 2000x600 with 0 Axes>"
      ]
     },
     "metadata": {},
     "output_type": "display_data"
    }
   ],
   "source": [
    "mov_avg = pd.read_csv(\"mov_avg.csv\", delimiter=\",\")\n",
    "    \n",
    "colors = {\"hand_open\":\"orange\", \"hand_flex_curl\":\"blue\"}\n",
    "\n",
    "for i in range(0,4):\n",
    "    plt.figure(figsize=(20,6))\n",
    "    plt.scatter(range(len(mov_avg[f\"ch{i}\"])), mov_avg[f\"ch{i}\"], color=mov_avg[\"gesture\"].map(colors), s=1)\n",
    "    plt.title(\"Filtered signal colored by gesture\")\n",
    "    plt.suptitle(f\"Channel {i}\")\n",
    "    plt.savefig(f\"graphs/colored_mov_avg/mov_avg-scatter-ch{i}.png\")\n",
    "    plt.clf()"
   ]
  },
  {
   "cell_type": "code",
   "execution_count": 46,
   "id": "a309d280-67d3-4067-9e7d-02725be91ba0",
   "metadata": {},
   "outputs": [
    {
     "data": {
      "text/plain": [
       "<Figure size 2000x600 with 0 Axes>"
      ]
     },
     "metadata": {},
     "output_type": "display_data"
    },
    {
     "data": {
      "text/plain": [
       "<Figure size 2000x600 with 0 Axes>"
      ]
     },
     "metadata": {},
     "output_type": "display_data"
    },
    {
     "data": {
      "text/plain": [
       "<Figure size 2000x600 with 0 Axes>"
      ]
     },
     "metadata": {},
     "output_type": "display_data"
    },
    {
     "data": {
      "text/plain": [
       "<Figure size 2000x600 with 0 Axes>"
      ]
     },
     "metadata": {},
     "output_type": "display_data"
    }
   ],
   "source": [
    "mov_avg_20 = mov_avg.copy()\n",
    "\n",
    "for i in range(0,4):\n",
    "    mov_avg_20[f\"ch{i}\"] = mov_avg_20[f\"ch{i}\"][:20000]\n",
    "    \n",
    "for i in range(0,4):\n",
    "    plt.figure(figsize=(20,6))\n",
    "    plt.scatter(range(len(mov_avg_20[f\"ch{i}\"])), mov_avg_20[f\"ch{i}\"], color=mov_avg_20[\"gesture\"].map(colors), s=1)\n",
    "    plt.title(\"Filtered signal colored by gesture in a reduced range (20,000 samples)\")\n",
    "    plt.suptitle(f\"Channel {i}\")\n",
    "    plt.savefig(f\"graphs/colored_mov_avg_20/mov_avg_20-scatter-ch{i}.png\")\n",
    "    plt.clf()"
   ]
  },
  {
   "cell_type": "code",
   "execution_count": null,
   "id": "454a47f1-22c3-49c6-9f3c-00114bd8cc85",
   "metadata": {},
   "outputs": [],
   "source": []
  }
 ],
 "metadata": {
  "kernelspec": {
   "display_name": "Python 3 (ipykernel)",
   "language": "python",
   "name": "python3"
  },
  "language_info": {
   "codemirror_mode": {
    "name": "ipython",
    "version": 3
   },
   "file_extension": ".py",
   "mimetype": "text/x-python",
   "name": "python",
   "nbconvert_exporter": "python",
   "pygments_lexer": "ipython3",
   "version": "3.9.13"
  }
 },
 "nbformat": 4,
 "nbformat_minor": 5
}
