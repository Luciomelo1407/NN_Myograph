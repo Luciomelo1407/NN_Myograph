{
 "cells": [
  {
   "cell_type": "markdown",
   "id": "28f97a2a-a44d-4cd5-8528-7590eea846c4",
   "metadata": {
    "tags": []
   },
   "source": [
    "# Tratamento de dados\n",
    "\n",
    "### passo 1 - importar bibliotecas "
   ]
  },
  {
   "cell_type": "code",
   "execution_count": 1,
   "id": "7244bb76-297b-4511-86a3-7ad4cee66371",
   "metadata": {},
   "outputs": [],
   "source": [
    "import matplotlib.pyplot as plt\n",
    "from matplotlib.collections import LineCollection\n",
    "from matplotlib.colors import ListedColormap, BoundaryNorm\n",
    "import numpy as np\n",
    "import pandas as pd\n",
    "from scipy import signal, ndimage"
   ]
  },
  {
   "cell_type": "markdown",
   "id": "ece367dc-dc0a-4ee4-beab-0109af6386b3",
   "metadata": {},
   "source": [
    "### passo 2 - importar csv de referência\n",
    "    - imprtar utilizando pandas\n",
    "    - imprimir gráficos de cada canal"
   ]
  },
  {
   "cell_type": "code",
   "execution_count": 9,
   "id": "13d879f7-2f7e-40ef-916d-2c5db2cc4a54",
   "metadata": {},
   "outputs": [
    {
     "data": {
      "text/plain": [
       "<Figure size 2000x600 with 0 Axes>"
      ]
     },
     "metadata": {},
     "output_type": "display_data"
    },
    {
     "data": {
      "text/plain": [
       "<Figure size 2000x600 with 0 Axes>"
      ]
     },
     "metadata": {},
     "output_type": "display_data"
    },
    {
     "data": {
      "text/plain": [
       "<Figure size 2000x600 with 0 Axes>"
      ]
     },
     "metadata": {},
     "output_type": "display_data"
    },
    {
     "data": {
      "text/plain": [
       "<Figure size 2000x600 with 0 Axes>"
      ]
     },
     "metadata": {},
     "output_type": "display_data"
    }
   ],
   "source": [
    "datasheet = pd.read_csv(\"../dataseets/original.csv\", delimiter=\";\")\n",
    "\n",
    "colors = {\"hand_open\":\"orange\", \"hand_flex_curl\":\"blue\"}\n",
    "\n",
    "# laco para gerar os gráficos baseados na label (hand-open ou hand-flex-curl)\n",
    "\n",
    "for i in range(0,4):\n",
    "    plt.figure(figsize=(20,6))\n",
    "    plt.scatter(range(len(datasheet[f\"ch{i}\"])), datasheet[f\"ch{i}\"], color=datasheet[\"gesture\"].map(colors), s=1)\n",
    "    plt.title(\"Original signal colored by gesture\")\n",
    "    plt.suptitle(f\"Channel {i}\")\n",
    "    plt.savefig(f\"../graphs/original/original-labeled-ch{i}.png\")\n",
    "    plt.clf()"
   ]
  },
  {
   "cell_type": "markdown",
   "id": "e59b8668-a251-4083-9805-538040c66d0a",
   "metadata": {},
   "source": [
    "### passo 3 - Aplicar filtro da mediana\n",
    "    - reduzir o ruído de impulso\n",
    "    - salvar em novo csv\n",
    "    - gerar gráficos para cada canal"
   ]
  },
  {
   "cell_type": "code",
   "execution_count": 11,
   "id": "54a2eb27-d492-4bb1-9588-e04628b6c7f9",
   "metadata": {},
   "outputs": [
    {
     "data": {
      "text/plain": [
       "<Figure size 2000x600 with 0 Axes>"
      ]
     },
     "metadata": {},
     "output_type": "display_data"
    },
    {
     "data": {
      "text/plain": [
       "<Figure size 2000x600 with 0 Axes>"
      ]
     },
     "metadata": {},
     "output_type": "display_data"
    },
    {
     "data": {
      "text/plain": [
       "<Figure size 2000x600 with 0 Axes>"
      ]
     },
     "metadata": {},
     "output_type": "display_data"
    },
    {
     "data": {
      "text/plain": [
       "<Figure size 2000x600 with 0 Axes>"
      ]
     },
     "metadata": {},
     "output_type": "display_data"
    }
   ],
   "source": [
    "# copiando datasheet\n",
    "median = datasheet.copy()\n",
    "\n",
    "# laco para aplicar o filtro da mediana nos 4 canais\n",
    "for i in range(0,4):\n",
    "    # aplica o filtro da mediana no canal i\n",
    "    median[f\"ch{i}\"] = signal.medfilt(median[f\"ch{i}\"], 9)\n",
    "    # gera gráficos para o canal i\n",
    "    plt.figure(figsize=(20,6))\n",
    "    plt.scatter(range(len(median[f\"ch{i}\"])), median[f\"ch{i}\"], color=median[\"gesture\"].map(colors), s=1)\n",
    "    plt.title(\"Filtered by median signal colored by gesture\")\n",
    "    plt.suptitle(f\"Channel {i}\")\n",
    "    plt.savefig(f\"../graphs/median/median-labeled-ch{i}.png\")\n",
    "    plt.clf()\n",
    "    \n",
    "# salvando dados em um novo arquivo .csv\n",
    "median.to_csv(\"../datasheets/median.csv\")"
   ]
  },
  {
   "cell_type": "markdown",
   "id": "7b18f1d1-3595-4ccd-b5ed-7df33511f060",
   "metadata": {},
   "source": [
    "### passo 4 -Aplicar média móvel\n",
    "    - suavizar sinal\n",
    "    - salvar em um novo csv\n",
    "    - gerar gráficos para cada canal"
   ]
  },
  {
   "cell_type": "code",
   "execution_count": 12,
   "id": "c1843daa-09e6-444b-b6ee-55384abc2944",
   "metadata": {},
   "outputs": [
    {
     "data": {
      "text/plain": [
       "<Figure size 2000x600 with 0 Axes>"
      ]
     },
     "metadata": {},
     "output_type": "display_data"
    },
    {
     "data": {
      "text/plain": [
       "<Figure size 2000x600 with 0 Axes>"
      ]
     },
     "metadata": {},
     "output_type": "display_data"
    },
    {
     "data": {
      "text/plain": [
       "<Figure size 2000x600 with 0 Axes>"
      ]
     },
     "metadata": {},
     "output_type": "display_data"
    },
    {
     "data": {
      "text/plain": [
       "<Figure size 2000x600 with 0 Axes>"
      ]
     },
     "metadata": {},
     "output_type": "display_data"
    }
   ],
   "source": [
    "# copiando datasheet\n",
    "mov_avg = median.copy()\n",
    "\n",
    "# laco para aplicar o filtro da mediana nos 4 canais\n",
    "for i in range(0,4):\n",
    "    # aplica o media movel no canal i\n",
    "    mov_avg['ch0'] = median.ch0.rolling(100).mean()\n",
    "    mov_avg['ch1'] = median.ch1.rolling(100).mean()\n",
    "    mov_avg['ch2'] = median.ch2.rolling(100).mean()\n",
    "    mov_avg['ch3'] = median.ch3.rolling(100).mean()\n",
    "    \n",
    "    # gera gráficos para o canal i\n",
    "    plt.figure(figsize=(20,6))\n",
    "    plt.scatter(range(len(mov_avg[f\"ch{i}\"])), mov_avg[f\"ch{i}\"], color=mov_avg[\"gesture\"].map(colors), s=1)\n",
    "    plt.title(\"rolling mean applied to the signal colored by gesture\")\n",
    "    plt.suptitle(f\"Channel {i}\")\n",
    "    plt.savefig(f\"../graphs/mov_avg/mov_avg-labeled-ch{i}.png\")\n",
    "    plt.clf()\n",
    "    \n",
    "# salvando dados em um novo arquivo .csv\n",
    "mov_avg.to_csv(\"../datasheets/mov_avg.csv\")"
   ]
  },
  {
   "cell_type": "markdown",
   "id": "f9e5f3ec-4594-47ae-8579-d77a2e6513f5",
   "metadata": {},
   "source": [
    "### passo 5 - encontrar o zero do sinal\n",
    "    - tecnica utilizada: subtrair o valor de um intervalo por sua media móvel\n",
    "    - salvar em um novo csv\n",
    "    - gerar graficos para cada canal"
   ]
  },
  {
   "cell_type": "code",
   "execution_count": 17,
   "id": "7b35c313-5d40-4e14-b52f-86b03aee6a37",
   "metadata": {},
   "outputs": [
    {
     "name": "stderr",
     "output_type": "stream",
     "text": [
      "/tmp/ipykernel_4312/3034585980.py:8: SettingWithCopyWarning: \n",
      "A value is trying to be set on a copy of a slice from a DataFrame\n",
      "\n",
      "See the caveats in the documentation: https://pandas.pydata.org/pandas-docs/stable/user_guide/indexing.html#returning-a-view-versus-a-copy\n",
      "  centered[f\"ch{i}\"][j:j+100] = centered[f\"ch{i}\"][j:j+100] - centered[f\"ch{i}\"][j:j+100].mean()\n",
      "/tmp/ipykernel_4312/3034585980.py:8: SettingWithCopyWarning: \n",
      "A value is trying to be set on a copy of a slice from a DataFrame\n",
      "\n",
      "See the caveats in the documentation: https://pandas.pydata.org/pandas-docs/stable/user_guide/indexing.html#returning-a-view-versus-a-copy\n",
      "  centered[f\"ch{i}\"][j:j+100] = centered[f\"ch{i}\"][j:j+100] - centered[f\"ch{i}\"][j:j+100].mean()\n",
      "/tmp/ipykernel_4312/3034585980.py:8: SettingWithCopyWarning: \n",
      "A value is trying to be set on a copy of a slice from a DataFrame\n",
      "\n",
      "See the caveats in the documentation: https://pandas.pydata.org/pandas-docs/stable/user_guide/indexing.html#returning-a-view-versus-a-copy\n",
      "  centered[f\"ch{i}\"][j:j+100] = centered[f\"ch{i}\"][j:j+100] - centered[f\"ch{i}\"][j:j+100].mean()\n",
      "/tmp/ipykernel_4312/3034585980.py:8: SettingWithCopyWarning: \n",
      "A value is trying to be set on a copy of a slice from a DataFrame\n",
      "\n",
      "See the caveats in the documentation: https://pandas.pydata.org/pandas-docs/stable/user_guide/indexing.html#returning-a-view-versus-a-copy\n",
      "  centered[f\"ch{i}\"][j:j+100] = centered[f\"ch{i}\"][j:j+100] - centered[f\"ch{i}\"][j:j+100].mean()\n"
     ]
    },
    {
     "data": {
      "text/plain": [
       "<Figure size 2000x600 with 0 Axes>"
      ]
     },
     "metadata": {},
     "output_type": "display_data"
    },
    {
     "data": {
      "text/plain": [
       "<Figure size 2000x600 with 0 Axes>"
      ]
     },
     "metadata": {},
     "output_type": "display_data"
    },
    {
     "data": {
      "text/plain": [
       "<Figure size 2000x600 with 0 Axes>"
      ]
     },
     "metadata": {},
     "output_type": "display_data"
    },
    {
     "data": {
      "text/plain": [
       "<Figure size 2000x600 with 0 Axes>"
      ]
     },
     "metadata": {},
     "output_type": "display_data"
    }
   ],
   "source": [
    "# copiando datasheet\n",
    "centered = mov_avg.copy()\n",
    "\n",
    "# laco para aplicar o filtro da mediana nos 4 canais\n",
    "for i in range(0,4):\n",
    "    # aplica a poeracao de centralização no canal i\n",
    "    for j in range (0, len(centered[f\"ch{i}\"]), 100):\n",
    "        centered[f\"ch{i}\"][j:j+100] = centered[f\"ch{i}\"][j:j+100] - centered[f\"ch{i}\"][j:j+100].mean()\n",
    "    # gera gráficos para o canal i\n",
    "    plt.figure(figsize=(20,6))\n",
    "    plt.scatter(range(len(centered[f\"ch{i}\"])), centered[f\"ch{i}\"], color=centered[\"gesture\"].map(colors), s=1)\n",
    "    plt.plot(range(len(centered[f\"ch{i}\"])), np.zeros_like(centered[f\"ch{i}\"]), color=\"black\")\n",
    "    plt.title(\"signal centered on zero colored by gesture\")\n",
    "    plt.suptitle(f\"Channel {i}\")\n",
    "    plt.savefig(f\"../graphs/centered/centered-labeled-ch{i}.png\")\n",
    "    plt.clf()\n",
    "    \n",
    "# salvando dados em um novo arquivo .csv\n",
    "centered.to_csv(\"../datasheets/centered.csv\")"
   ]
  },
  {
   "cell_type": "code",
   "execution_count": null,
   "id": "e603e554-9179-4464-84ad-6b086799a9b6",
   "metadata": {},
   "outputs": [],
   "source": []
  }
 ],
 "metadata": {
  "kernelspec": {
   "display_name": "Python 3 (ipykernel)",
   "language": "python",
   "name": "python3"
  },
  "language_info": {
   "codemirror_mode": {
    "name": "ipython",
    "version": 3
   },
   "file_extension": ".py",
   "mimetype": "text/x-python",
   "name": "python",
   "nbconvert_exporter": "python",
   "pygments_lexer": "ipython3",
   "version": "3.9.13"
  }
 },
 "nbformat": 4,
 "nbformat_minor": 5
}
