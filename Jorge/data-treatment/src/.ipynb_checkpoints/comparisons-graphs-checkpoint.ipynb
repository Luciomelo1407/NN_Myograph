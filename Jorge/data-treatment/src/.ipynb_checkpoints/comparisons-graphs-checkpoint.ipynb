{
 "cells": [
  {
   "cell_type": "code",
   "execution_count": 2,
   "id": "42e4dc9f-cb80-4cbb-9c1e-3de84bf10089",
   "metadata": {},
   "outputs": [],
   "source": [
    "import matplotlib.pyplot as plt\n",
    "from matplotlib.collections import LineCollection\n",
    "from matplotlib.colors import ListedColormap, BoundaryNorm\n",
    "import numpy as np\n",
    "import pandas as pd"
   ]
  },
  {
   "cell_type": "markdown",
   "id": "61a11664-1978-4166-a134-74a31dc5912c",
   "metadata": {},
   "source": [
    "### importando os csv's importantes para gerar gráficos de comparação"
   ]
  },
  {
   "cell_type": "code",
   "execution_count": 3,
   "id": "acdf7761-d208-4515-a752-550a9f452138",
   "metadata": {},
   "outputs": [],
   "source": [
    "centered = pd.read_csv('../datasheets/centered.csv')\n",
    "mov_avg = pd.read_csv('../datasheets/mov_avg.csv')\n",
    "normalized = pd.read_csv('../datasheets/normalized.csv')"
   ]
  },
  {
   "cell_type": "code",
   "execution_count": 4,
   "id": "0421761c-59a6-4389-8c89-f17c75bca853",
   "metadata": {},
   "outputs": [],
   "source": [
    "colors = {\"hand_open\":\"orange\", \"hand_flex_curl\":\"blue\"}"
   ]
  },
  {
   "cell_type": "markdown",
   "id": "494cd0be-5891-446e-8a87-d202d90a44e9",
   "metadata": {},
   "source": [
    "### graficos com zoom nos primeiros 20.000 valores"
   ]
  },
  {
   "cell_type": "code",
   "execution_count": 5,
   "id": "de96efb1-225f-48dc-8b0a-76599f5b1c58",
   "metadata": {},
   "outputs": [
    {
     "data": {
      "text/plain": [
       "<Figure size 2000x1200 with 0 Axes>"
      ]
     },
     "metadata": {},
     "output_type": "display_data"
    },
    {
     "data": {
      "text/plain": [
       "<Figure size 2000x1200 with 0 Axes>"
      ]
     },
     "metadata": {},
     "output_type": "display_data"
    },
    {
     "data": {
      "text/plain": [
       "<Figure size 2000x1200 with 0 Axes>"
      ]
     },
     "metadata": {},
     "output_type": "display_data"
    },
    {
     "data": {
      "text/plain": [
       "<Figure size 2000x1200 with 0 Axes>"
      ]
     },
     "metadata": {},
     "output_type": "display_data"
    }
   ],
   "source": [
    "for i in range(0,4):\n",
    "    figure, axes = plt.subplots(3, 2, figsize=(20,12), gridspec_kw={'width_ratios': [1, 1]})\n",
    "    axes[0][0].scatter(range(len(normalized[f\"ch{i}\"])), normalized[f\"ch{i}\"], color=normalized[\"gesture\"].map(colors), s=1)\n",
    "    axes[0][0].set_ylabel(\"value\")\n",
    "    axes[0][0].set(title=f\"Normalized ch{i}\")\n",
    "    axes[0][0].grid(True)\n",
    "    \n",
    "    axes[0][1].scatter(range(len(normalized[f\"ch{i}\"][:20000])), normalized[f\"ch{i}\"][:20000], color=normalized[\"gesture\"][:20000].map(colors), s=1)\n",
    "    axes[0][1].set_ylabel(\"value\")\n",
    "    axes[0][1].set(title=f\"Normalized ch{i} - first 20.000's\")\n",
    "    axes[0][1].grid(True)\n",
    "    \n",
    "    axes[1][0].scatter(range(len(mov_avg[f\"ch{i}\"])), mov_avg[f\"ch{i}\"], color=mov_avg[\"gesture\"].map(colors), s=1)\n",
    "    axes[1][0].set_ylabel(\"value\")\n",
    "    axes[1][0].set(title=f\"Rolling mean ch{i}\")\n",
    "    axes[1][0].grid(True)\n",
    "    \n",
    "    axes[1][1].scatter(range(len(mov_avg[f\"ch{i}\"][:20000])), mov_avg[f\"ch{i}\"][:20000], color=mov_avg[\"gesture\"][:20000].map(colors), s=1)\n",
    "    axes[1][1].set_ylabel(\"value\")\n",
    "    axes[1][1].set(title=f\"Normalized ch{i} - first 20.000's\")\n",
    "    axes[1][1].grid(True)\n",
    "    \n",
    "    axes[2][0].scatter(range(len(centered[f\"ch{i}\"])), centered[f\"ch{i}\"], color=centered[\"gesture\"].map(colors), s=1)\n",
    "    axes[2][0].set_xlabel(\"time\")\n",
    "    axes[2][0].set_ylabel(\"value\")\n",
    "    axes[2][0].set(title=f\"Zero centered ch{i}\")\n",
    "    axes[2][0].grid(True)\n",
    "    \n",
    "    axes[2][1].scatter(range(len(centered[f\"ch{i}\"][:20000])), centered[f\"ch{i}\"][:20000], color=centered[\"gesture\"][:20000].map(colors), s=1)\n",
    "    axes[2][1].set_xlabel(\"time\")\n",
    "    axes[2][1].set_ylabel(\"value\")\n",
    "    axes[2][1].set(title=f\"Zero centered ch{i} - first 20.000's\")\n",
    "    axes[2][1].grid(True)\n",
    "    \n",
    "    figure.savefig(f\"../graphs/comparisons/20000-first-elements-ch{i}.png\")\n",
    "    figure.clf()"
   ]
  },
  {
   "cell_type": "code",
   "execution_count": null,
   "id": "fff64484-6cf0-4076-ace2-e1abb10eedbe",
   "metadata": {},
   "outputs": [],
   "source": []
  }
 ],
 "metadata": {
  "kernelspec": {
   "display_name": "Python 3 (ipykernel)",
   "language": "python",
   "name": "python3"
  },
  "language_info": {
   "codemirror_mode": {
    "name": "ipython",
    "version": 3
   },
   "file_extension": ".py",
   "mimetype": "text/x-python",
   "name": "python",
   "nbconvert_exporter": "python",
   "pygments_lexer": "ipython3",
   "version": "3.9.13"
  }
 },
 "nbformat": 4,
 "nbformat_minor": 5
}
