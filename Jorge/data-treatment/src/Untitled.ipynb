{
 "cells": [
  {
   "cell_type": "code",
   "execution_count": 1,
   "id": "64dbcf08-0a32-4b23-90c1-059202f3c5bd",
   "metadata": {},
   "outputs": [],
   "source": [
    "import matplotlib.pyplot as plt\n",
    "import numpy as np\n",
    "import pandas as pd\n",
    "from scipy import signal, ndimage"
   ]
  },
  {
   "cell_type": "code",
   "execution_count": 2,
   "id": "f3e58cfe-ff35-48aa-ae2c-694cc7ff81eb",
   "metadata": {},
   "outputs": [],
   "source": [
    "datasheet = pd.read_csv(\"../datasheets/original.csv\", delimiter=\";\")\n",
    "\n",
    "colors = {\"hand_open\":\"orange\", \"hand_flex_curl\":\"blue\"}"
   ]
  },
  {
   "cell_type": "code",
   "execution_count": 4,
   "id": "b3bd6334-6e69-4920-8aec-c1afcf483a97",
   "metadata": {},
   "outputs": [
    {
     "name": "stdout",
     "output_type": "stream",
     "text": [
      "               gesture   ch0   ch1   ch2   ch3\n",
      "0            hand_open  2064  2120  2292  2125\n",
      "1            hand_open  2116  2064  2208  1836\n",
      "2            hand_open  2108  2088  2249  1878\n",
      "3            hand_open  2096  2184  2140  1380\n",
      "4            hand_open  2095  2008  2251  2296\n",
      "...                ...   ...   ...   ...   ...\n",
      "120091  hand_flex_curl  1936  2057  1992  2232\n",
      "120092  hand_flex_curl  2012  2222  2262  1358\n",
      "120093  hand_flex_curl  2188  2444  2536  2071\n",
      "120094  hand_flex_curl  2199  2124  2583  2358\n",
      "120095  hand_flex_curl  2024  2072  2780  2159\n",
      "\n",
      "[120096 rows x 5 columns]\n"
     ]
    }
   ],
   "source": [
    "maximum = datasheet.copy()\n",
    "print(maximum)\n",
    "\n"
   ]
  },
  {
   "cell_type": "code",
   "execution_count": null,
   "id": "e034ca32-e846-47f1-8859-e60a4e1fe2d1",
   "metadata": {},
   "outputs": [],
   "source": []
  }
 ],
 "metadata": {
  "kernelspec": {
   "display_name": "Python 3 (ipykernel)",
   "language": "python",
   "name": "python3"
  },
  "language_info": {
   "codemirror_mode": {
    "name": "ipython",
    "version": 3
   },
   "file_extension": ".py",
   "mimetype": "text/x-python",
   "name": "python",
   "nbconvert_exporter": "python",
   "pygments_lexer": "ipython3",
   "version": "3.9.13"
  }
 },
 "nbformat": 4,
 "nbformat_minor": 5
}
